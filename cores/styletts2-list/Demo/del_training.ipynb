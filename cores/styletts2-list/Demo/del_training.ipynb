{
 "cells": [
  {
   "cell_type": "markdown",
   "id": "12576ac0",
   "metadata": {},
   "source": [
    "Use this code to remove unnecessary modules for inference!"
   ]
  },
  {
   "cell_type": "code",
   "execution_count": null,
   "id": "dc802b47",
   "metadata": {},
   "outputs": [],
   "source": [
    "import os\n",
    "import torch\n",
    "\n",
    "models_path = \" \"       # target path\n",
    "name = \"./model.pth\"    # output path\n",
    "\n",
    "params_whole = torch.load(models_path, map_location='cpu')\n",
    "\n",
    "for key in list(params_whole.keys()):\n",
    "    if key != 'net':\n",
    "        params_whole.pop(key)\n",
    "\n",
    "keep = ['decoder', 'predictor', 'text_encoder', 'style_encoder']\n",
    "for module_name in list(params_whole['net'].keys()):\n",
    "    if module_name not in keep:\n",
    "        params_whole['net'].pop(module_name)\n",
    "\n",
    "torch.save(params_whole, name)\n",
    "\n",
    "\n",
    "#os.remove(models_path)"
   ]
  }
 ],
 "metadata": {
  "kernelspec": {
   "display_name": "base",
   "language": "python",
   "name": "python3"
  },
  "language_info": {
   "codemirror_mode": {
    "name": "ipython",
    "version": 3
   },
   "file_extension": ".py",
   "mimetype": "text/x-python",
   "name": "python",
   "nbconvert_exporter": "python",
   "pygments_lexer": "ipython3",
   "version": "3.11.7"
  }
 },
 "nbformat": 4,
 "nbformat_minor": 5
}
