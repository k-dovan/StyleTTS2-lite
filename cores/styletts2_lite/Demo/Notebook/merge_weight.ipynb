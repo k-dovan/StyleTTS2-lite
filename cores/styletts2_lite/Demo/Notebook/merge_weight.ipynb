{
 "cells": [
  {
   "cell_type": "code",
   "execution_count": 1,
   "id": "5a3ddcc8",
   "metadata": {},
   "outputs": [
    {
     "name": "stdout",
     "output_type": "stream",
     "text": [
      "d:\\Project\\TTS\\Experimental\\StyleTTS2-lite\n"
     ]
    },
    {
     "name": "stderr",
     "output_type": "stream",
     "text": [
      "[nltk_data] Downloading package punkt_tab to\n",
      "[nltk_data]     C:\\Users\\catto\\AppData\\Roaming\\nltk_data...\n",
      "[nltk_data]   Package punkt_tab is already up-to-date!\n"
     ]
    }
   ],
   "source": [
    "%cd ../..\n",
    "from inference_diffusion import StyleTTS2\n",
    "\n",
    "import librosa\n",
    "import IPython.display as ipd\n",
    "import torch.cuda\n",
    "\n",
    "#device = 'cuda' if torch.cuda.is_available() else 'cpu'\n",
    "device = 'cpu'"
   ]
  },
  {
   "cell_type": "markdown",
   "id": "7b9cecbe",
   "metadata": {},
   "source": [
    "### Load models"
   ]
  },
  {
   "cell_type": "code",
   "execution_count": 2,
   "id": "e7b9c01d",
   "metadata": {},
   "outputs": [],
   "source": [
    "config_path = \"Configs/config.yaml\"\n",
    "models_path_1 = \"Models/Finetune/vivoice_120k.pth\"\n",
    "models_path_2 = \"Models/Finetune/current_diffusion_329_test_2.pth\""
   ]
  },
  {
   "cell_type": "code",
   "execution_count": 3,
   "id": "fd6dd455",
   "metadata": {},
   "outputs": [
    {
     "data": {
      "text/plain": [
       "dict_keys(['decoder', 'predictor', 'text_encoder', 'style_encoder', 'text_aligner', 'pitch_extractor', 'mpd', 'msd'])"
      ]
     },
     "execution_count": 3,
     "metadata": {},
     "output_type": "execute_result"
    }
   ],
   "source": [
    "params_1 = torch.load(models_path_1, map_location='cpu')\n",
    "params_1['net'].keys()"
   ]
  },
  {
   "cell_type": "code",
   "execution_count": 4,
   "id": "fd1439eb",
   "metadata": {},
   "outputs": [
    {
     "data": {
      "text/plain": [
       "dict_keys(['diffusion'])"
      ]
     },
     "execution_count": 4,
     "metadata": {},
     "output_type": "execute_result"
    }
   ],
   "source": [
    "params_2 = torch.load(models_path_2, map_location='cpu')\n",
    "params_2['net'].keys()"
   ]
  },
  {
   "cell_type": "code",
   "execution_count": 5,
   "id": "b7911a6d",
   "metadata": {},
   "outputs": [],
   "source": [
    "params_1['net']['diffusion'] = params_2['net']['diffusion']"
   ]
  },
  {
   "cell_type": "code",
   "execution_count": 6,
   "id": "47bcf37d",
   "metadata": {},
   "outputs": [
    {
     "data": {
      "text/plain": [
       "dict_keys(['decoder', 'predictor', 'text_encoder', 'style_encoder', 'text_aligner', 'pitch_extractor', 'mpd', 'msd', 'diffusion'])"
      ]
     },
     "execution_count": 6,
     "metadata": {},
     "output_type": "execute_result"
    }
   ],
   "source": [
    "params_1['net'].keys()"
   ]
  },
  {
   "cell_type": "code",
   "execution_count": 7,
   "id": "3728c2ab",
   "metadata": {},
   "outputs": [],
   "source": [
    "torch.save(params_1, 'test_weight.pth')"
   ]
  }
 ],
 "metadata": {
  "kernelspec": {
   "display_name": "base",
   "language": "python",
   "name": "python3"
  },
  "language_info": {
   "codemirror_mode": {
    "name": "ipython",
    "version": 3
   },
   "file_extension": ".py",
   "mimetype": "text/x-python",
   "name": "python",
   "nbconvert_exporter": "python",
   "pygments_lexer": "ipython3",
   "version": "3.11.7"
  }
 },
 "nbformat": 4,
 "nbformat_minor": 5
}
